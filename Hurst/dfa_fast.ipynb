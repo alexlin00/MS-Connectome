{
 "cells": [
  {
   "cell_type": "code",
   "execution_count": 4,
   "metadata": {},
   "outputs": [],
   "source": [
    "import numpy as np\n",
    "\n",
    "def dfa_fast(vdata, istart, iend, L_all):\n",
    "#function takes in your time series, the start and end time points, and the\n",
    "#different L values you want to use in the implementation of DFA\n",
    "    \n",
    "    #number of columns of vdata\n",
    "    lenY=len(vdata[1,:])\n",
    "    #number of rows of vdata\n",
    "    lenX=len(vdata)\n",
    "    \n",
    "    #takes the cumulative sum\n",
    "    for y in range(lenY):\n",
    "        for x in range(1,lenX):\n",
    "            vdata[x][y]=vdata[x][y]+vdata[x-1][y]\n",
    "\n",
    "    FL_all=np.zeros((len(L_all),lenY))\n",
    "    \n",
    "    #iterating through the L values you want to use\n",
    "    for il in range(len(L_all)):\n",
    "        L=L_all[il]\n",
    "        y=[]\n",
    "        for x in range(L):\n",
    "            y.append(x)\n",
    "        X=np.ones((L,2))\n",
    "        for i in range(L):\n",
    "            X[i][0]=y[i]\n",
    "        \n",
    "        #nice thing about this approach is if your data isn't an integer\n",
    "        #multiple of the length L, it will just average as many windows as can fit\n",
    "        c=0\n",
    "        FL=np.zeros((1,len(vdata[1,:])))\n",
    "        for i in range(istart,min(iend,lenX)-L+1,L):\n",
    "            vtmp=np.zeros((L,lenY))\n",
    "            for m in range(L):\n",
    "                for n in range(lenY):\n",
    "                    vtmp[m][n]=vdata[m+i][n]\n",
    "                     \n",
    "                \n",
    "            #b=X\\vtmp;\n",
    "            #y=X*b;\n",
    "            #r=vtmp-X*(X\\vtmp);\n",
    "            #calculates rms for that window\n",
    "            \n",
    "            #note: linalg.lstsq returns a list\n",
    "            #d[0] is what we want\n",
    "            d=np.linalg.lstsq(X, vtmp)\n",
    "            \n",
    "            m=np.matmul(X,d[0])\n",
    "            s=np.subtract(vtmp,m)\n",
    "            p=np.power(s,2)\n",
    "            a=np.mean(p,axis=0)\n",
    "\n",
    "            rms=np.sqrt(a)\n",
    "            \n",
    "            FL=np.add(FL,rms)\n",
    "            c+=1\n",
    "        \n",
    "        FL=np.divide(FL,c)\n",
    "        FL_all[il,:]=FL\n",
    "    \n",
    "    logFL=np.log(FL_all)\n",
    "    X=np.reshape(L_all,(len(L_all),1))\n",
    "    \n",
    "    lx=np.log(X)\n",
    "    logX=np.ones((len(X),2))\n",
    "    for i in range(len(lx)):\n",
    "            logX[i][0]=lx[i]\n",
    "             \n",
    "    b=np.linalg.lstsq(logX,logFL)\n",
    "    res=b[0]\n",
    "    return res[0,:]"
   ]
  },
  {
   "cell_type": "code",
   "execution_count": 5,
   "metadata": {},
   "outputs": [],
   "source": [
    "def prep(file, row, col):\n",
    "#inputs the data from a txt file to array\n",
    "    data = file.readlines()\n",
    "    allNums=np.zeros((row,col))\n",
    "    x=0\n",
    "    y=0\n",
    "    for line in data:\n",
    "        line.strip()\n",
    "        for num in line.split(', '):\n",
    "            float(num)\n",
    "            allNums[x][y]=num\n",
    "            y+=1\n",
    "        x+=1\n",
    "        y=0\n",
    "    return allNums"
   ]
  },
  {
   "cell_type": "code",
   "execution_count": 6,
   "metadata": {},
   "outputs": [
    {
     "name": "stderr",
     "output_type": "stream",
     "text": [
      "/opt/anaconda3/lib/python3.7/site-packages/ipykernel_launcher.py:47: FutureWarning: `rcond` parameter will change to the default of machine precision times ``max(M, N)`` where M and N are the input matrix dimensions.\n",
      "To use the future default and silence this warning we advise to pass `rcond=None`, to keep using the old, explicitly pass `rcond=-1`.\n",
      "/opt/anaconda3/lib/python3.7/site-packages/ipykernel_launcher.py:70: FutureWarning: `rcond` parameter will change to the default of machine precision times ``max(M, N)`` where M and N are the input matrix dimensions.\n",
      "To use the future default and silence this warning we advise to pass `rcond=None`, to keep using the old, explicitly pass `rcond=-1`.\n"
     ]
    }
   ],
   "source": [
    "import os\n",
    "\n",
    "folder=os.listdir('/Users/alexlin/Documents/MS/Hurst')\n",
    "ideal = [10,16,20,30]\n",
    "allData = np.zeros((92,86))\n",
    "names = []\n",
    "n=0\n",
    "for file in folder:\n",
    "    if file.endswith('.txt') and file != 'Names.txt':\n",
    "        f=open(file,'r')\n",
    "        p=prep(f,180,86)\n",
    "        d=dfa_fast(p,0,180,ideal)\n",
    "        names.append([file])\n",
    "        for i in range(len(d)):\n",
    "            allData[n][i]=d[i]\n",
    "        n+=1\n",
    "        f.close\n",
    "        continue\n",
    "    else: \n",
    "        continue\n",
    "newData = np.hstack((names,allData))"
   ]
  },
  {
   "cell_type": "code",
   "execution_count": 7,
   "metadata": {},
   "outputs": [],
   "source": [
    "import csv\n",
    "n=open('Names.txt','r')\n",
    "fn=n.readlines()\n",
    "fields=['ID']\n",
    "for line in fn:\n",
    "    name=line[line.find('=')+1:len(line)-1]\n",
    "    fields.append(name)"
   ]
  },
  {
   "cell_type": "code",
   "execution_count": 8,
   "metadata": {},
   "outputs": [],
   "source": [
    "from pandas import DataFrame\n",
    "\n",
    "# writing to csv file\n",
    "with open('HurstExpCtrl.csv', 'w') as csvfile: \n",
    "    # creating a csv writer object \n",
    "    writer = csv.writer(csvfile) \n",
    "    # writing the fields \n",
    "    writer.writerow(fields) \n",
    "    # writing the data rows \n",
    "    writer.writerows(newData)"
   ]
  },
  {
   "cell_type": "code",
   "execution_count": null,
   "metadata": {},
   "outputs": [],
   "source": []
  }
 ],
 "metadata": {
  "kernelspec": {
   "display_name": "Python 3",
   "language": "python",
   "name": "python3"
  },
  "language_info": {
   "codemirror_mode": {
    "name": "ipython",
    "version": 3
   },
   "file_extension": ".py",
   "mimetype": "text/x-python",
   "name": "python",
   "nbconvert_exporter": "python",
   "pygments_lexer": "ipython3",
   "version": "3.7.4"
  }
 },
 "nbformat": 4,
 "nbformat_minor": 2
}
